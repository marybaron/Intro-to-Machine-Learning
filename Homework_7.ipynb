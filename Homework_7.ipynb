{
  "nbformat": 4,
  "nbformat_minor": 0,
  "metadata": {
    "colab": {
      "name": "Homework 7.ipynb",
      "provenance": [],
      "collapsed_sections": [],
      "authorship_tag": "ABX9TyP9r5mNwZujZKOApkOzTGSJ",
      "include_colab_link": true
    },
    "kernelspec": {
      "name": "python3",
      "display_name": "Python 3"
    },
    "language_info": {
      "name": "python"
    }
  },
  "cells": [
    {
      "cell_type": "markdown",
      "metadata": {
        "id": "view-in-github",
        "colab_type": "text"
      },
      "source": [
        "<a href=\"https://colab.research.google.com/github/marybaron/Intro-to-Machine-Learning/blob/main/Homework_7.ipynb\" target=\"_parent\"><img src=\"https://colab.research.google.com/assets/colab-badge.svg\" alt=\"Open In Colab\"/></a>"
      ]
    },
    {
      "cell_type": "markdown",
      "source": [
        "Homework 7 - Mary Baron"
      ],
      "metadata": {
        "id": "v4gM8O6McWgU"
      }
    },
    {
      "cell_type": "markdown",
      "source": [
        "# 16.1 Image Recognition: The Fashion-MNIST Dataset:\n",
        "Keras comes bundled with the Fashion-MNIST database of fashion articles which, like the MNIST digits dataset, provides 28-by-28 grayscale images. Fashion-MNIST contains clothing-article images labeled in 10 categories—0 (T-shirt/top), 1 (Trouser), 2 (Pullover), 3 (Dress), 4 (Coat), 5 (Sandal), 6 (Shirt), 7 (Sneaker), 8 (Bag), 9 (Ankle boot)—with 60,000 training samples and 10,000 testing samples. Modify this chapter’s convnet example to load and process Fashion-MNIST rather than MNIST—this requires simply importing the correct module, loading the data then running the model with these images and labels, then re-run the entire example. \n",
        "\n",
        "Answer:\n",
        "\n",
        "\n",
        "*   How well does the model perform on Fashion-MNIST compared to MNIST?\n",
        "\n",
        "    The model preforms at a 88.8% accuracy with a 32.7% loss on the Fashion-MNIST in comparision to the MNIST which preforms at a 99.1% accuracy with only a 2.6% loss.\n",
        "*   How do the training times compare? \n",
        "\n",
        "    For the MNIST training times it averaged around 105s 124ms and on the Fashion-MNIST the training times averaged around 114s 135ms. The training times slighty changed a few times but each time the MNIST training times where faster.\n",
        "\n",
        "\n",
        "\n",
        "**MNIST:**\n",
        "\n",
        "    Epoch 1/5: 107s 126ms\n",
        "\n",
        "    Epoch 2/5: 105s 124m\n",
        "\n",
        "    Epoch 3/5: 105s 125ms\n",
        "\n",
        "    Epoch 4/5: 104s 124ms\n",
        "\n",
        "    Epoch 5/5: 104s 124ms\n",
        "\n",
        "**Fashion-MNIST:**\n",
        "\n",
        "    Epoch 1/5: 117s 137ms\n",
        "\n",
        "    Epoch 2/5: 114s 135ms\n",
        "\n",
        "    Epoch 3/5: 114s 135ms\n",
        "\n",
        "    Epoch 4/5: 114s 135ms\n",
        "\n",
        "    Epoch 5/5: 114s 135ms\n",
        "\n",
        "\n",
        "\n"
      ],
      "metadata": {
        "id": "4Anwh_UybYzX"
      }
    },
    {
      "cell_type": "markdown",
      "source": [
        "**Load the dataset:**"
      ],
      "metadata": {
        "id": "QFkLgigy0E7E"
      }
    },
    {
      "cell_type": "code",
      "source": [
        "import tensorflow as tf\n",
        "import numpy as np\n",
        "import matplotlib.pyplot as plt\n",
        "\n",
        "print(tf.__version__)"
      ],
      "metadata": {
        "colab": {
          "base_uri": "https://localhost:8080/",
          "height": 0
        },
        "id": "JOAABhgn0R9x",
        "outputId": "ad72e62f-829f-480a-a0e0-c9a3146f7f87"
      },
      "execution_count": 1,
      "outputs": [
        {
          "output_type": "stream",
          "name": "stdout",
          "text": [
            "2.8.0\n"
          ]
        }
      ]
    },
    {
      "cell_type": "code",
      "source": [
        "fashion_mnist = tf.keras.datasets.fashion_mnist\n",
        "\n",
        "(train_images, train_labels), (test_images, test_labels) = fashion_mnist.load_data()"
      ],
      "metadata": {
        "id": "rlKlmBloccYv",
        "colab": {
          "base_uri": "https://localhost:8080/",
          "height": 0
        },
        "outputId": "ee4a6ee3-59a4-49d6-9cc3-76b7e0c7d64f"
      },
      "execution_count": 2,
      "outputs": [
        {
          "output_type": "stream",
          "name": "stdout",
          "text": [
            "Downloading data from https://storage.googleapis.com/tensorflow/tf-keras-datasets/train-labels-idx1-ubyte.gz\n",
            "32768/29515 [=================================] - 0s 0us/step\n",
            "40960/29515 [=========================================] - 0s 0us/step\n",
            "Downloading data from https://storage.googleapis.com/tensorflow/tf-keras-datasets/train-images-idx3-ubyte.gz\n",
            "26427392/26421880 [==============================] - 0s 0us/step\n",
            "26435584/26421880 [==============================] - 0s 0us/step\n",
            "Downloading data from https://storage.googleapis.com/tensorflow/tf-keras-datasets/t10k-labels-idx1-ubyte.gz\n",
            "16384/5148 [===============================================================================================] - 0s 0us/step\n",
            "Downloading data from https://storage.googleapis.com/tensorflow/tf-keras-datasets/t10k-images-idx3-ubyte.gz\n",
            "4423680/4422102 [==============================] - 0s 0us/step\n",
            "4431872/4422102 [==============================] - 0s 0us/step\n"
          ]
        }
      ]
    },
    {
      "cell_type": "code",
      "source": [
        "class_names = ['T-shirt/top', 'Trouser', 'Pullover', 'Dress', 'Coat',\n",
        "               'Sandal', 'Shirt', 'Sneaker', 'Bag', 'Ankle boot']"
      ],
      "metadata": {
        "id": "ZRTKiSJd1yuQ"
      },
      "execution_count": 3,
      "outputs": []
    },
    {
      "cell_type": "markdown",
      "source": [
        "**Explore the Data:**"
      ],
      "metadata": {
        "id": "yG2MGslT0vdR"
      }
    },
    {
      "cell_type": "code",
      "source": [
        "train_images.shape"
      ],
      "metadata": {
        "colab": {
          "base_uri": "https://localhost:8080/",
          "height": 0
        },
        "id": "8fLZvRj10iaV",
        "outputId": "d1cd344a-9ce2-492f-9047-f2743d29196c"
      },
      "execution_count": 4,
      "outputs": [
        {
          "output_type": "execute_result",
          "data": {
            "text/plain": [
              "(60000, 28, 28)"
            ]
          },
          "metadata": {},
          "execution_count": 4
        }
      ]
    },
    {
      "cell_type": "code",
      "source": [
        "(X_train, y_train), (X_test, y_test) = fashion_mnist.load_data()"
      ],
      "metadata": {
        "id": "yijqzTw_08bl"
      },
      "execution_count": 5,
      "outputs": []
    },
    {
      "cell_type": "code",
      "source": [
        "X_train.shape"
      ],
      "metadata": {
        "colab": {
          "base_uri": "https://localhost:8080/",
          "height": 0
        },
        "id": "MsD9I2zE01pU",
        "outputId": "80fa94e2-5a36-4e32-bc21-9c335c5b6057"
      },
      "execution_count": 6,
      "outputs": [
        {
          "output_type": "execute_result",
          "data": {
            "text/plain": [
              "(60000, 28, 28)"
            ]
          },
          "metadata": {},
          "execution_count": 6
        }
      ]
    },
    {
      "cell_type": "code",
      "source": [
        "y_train.shape"
      ],
      "metadata": {
        "colab": {
          "base_uri": "https://localhost:8080/",
          "height": 0
        },
        "id": "hYBuzfMx02Wm",
        "outputId": "223bcfcc-cdec-474a-93a7-d13e4d65fdfe"
      },
      "execution_count": 7,
      "outputs": [
        {
          "output_type": "execute_result",
          "data": {
            "text/plain": [
              "(60000,)"
            ]
          },
          "metadata": {},
          "execution_count": 7
        }
      ]
    },
    {
      "cell_type": "code",
      "source": [
        "X_test.shape"
      ],
      "metadata": {
        "colab": {
          "base_uri": "https://localhost:8080/",
          "height": 0
        },
        "id": "wVhLQEHU1MIO",
        "outputId": "92fa72de-c7e1-491b-9758-e54eb56ea5c8"
      },
      "execution_count": 8,
      "outputs": [
        {
          "output_type": "execute_result",
          "data": {
            "text/plain": [
              "(10000, 28, 28)"
            ]
          },
          "metadata": {},
          "execution_count": 8
        }
      ]
    },
    {
      "cell_type": "code",
      "source": [
        "y_test.shape"
      ],
      "metadata": {
        "colab": {
          "base_uri": "https://localhost:8080/",
          "height": 0
        },
        "id": "o_a8ZUzM1L4u",
        "outputId": "8024ae49-839b-441b-9064-88ff5c768ad6"
      },
      "execution_count": 9,
      "outputs": [
        {
          "output_type": "execute_result",
          "data": {
            "text/plain": [
              "(10000,)"
            ]
          },
          "metadata": {},
          "execution_count": 9
        }
      ]
    },
    {
      "cell_type": "markdown",
      "source": [
        "**Vizualizing the Data:**"
      ],
      "metadata": {
        "id": "gev5UiHk1e-i"
      }
    },
    {
      "cell_type": "code",
      "source": [
        "plt.figure()\n",
        "plt.imshow(train_images[1])\n",
        "plt.colorbar()\n",
        "plt.grid(False)\n",
        "plt.show()"
      ],
      "metadata": {
        "colab": {
          "base_uri": "https://localhost:8080/",
          "height": 265
        },
        "id": "lzjNfdPs2Ckt",
        "outputId": "3c773cc9-d880-46a3-9005-70fa2710c94b"
      },
      "execution_count": 10,
      "outputs": [
        {
          "output_type": "display_data",
          "data": {
            "text/plain": [
              "<Figure size 432x288 with 2 Axes>"
            ],
            "image/png": "[encoded data removed]"
          },
          "metadata": {
            "needs_background": "light"
          }
        }
      ]
    },
    {
      "cell_type": "code",
      "source": [
        "plt.figure(figsize=(10,10))\n",
        "for i in range(20):\n",
        "    plt.subplot(5,5,i+1)\n",
        "    plt.xticks([])\n",
        "    plt.yticks([])\n",
        "    plt.grid(False)\n",
        "    plt.imshow(train_images[i], cmap=plt.cm.binary)\n",
        "    plt.xlabel(class_names[train_labels[i]])\n",
        "plt.show()"
      ],
      "metadata": {
        "colab": {
          "base_uri": "https://localhost:8080/",
          "height": 476
        },
        "id": "9P41c20P2MCF",
        "outputId": "f239ad63-9c84-4f06-e629-679578ec6ed9"
      },
      "execution_count": 11,
      "outputs": [
        {
          "output_type": "display_data",
          "data": {
            "text/plain": [
              "<Figure size 720x720 with 20 Axes>"
            ],
            "image/png": "[encoded data removed]"
          },
          "metadata": {}
        }
      ]
    },
    {
      "cell_type": "markdown",
      "source": [
        "**Data Preparation:**"
      ],
      "metadata": {
        "id": "oR9vWQ0O_GuH"
      }
    },
    {
      "cell_type": "code",
      "source": [
        "X_train = X_train.reshape((60000, 28, 28, 1)) "
      ],
      "metadata": {
        "id": "QOmGgupg_MvX"
      },
      "execution_count": 12,
      "outputs": []
    },
    {
      "cell_type": "code",
      "execution_count": 13,
      "metadata": {
        "colab": {
          "base_uri": "https://localhost:8080/",
          "height": 0
        },
        "id": "gLZE3C9jcp4l",
        "outputId": "024b7bb0-9a24-4b7c-e99a-0a3c77909d96"
      },
      "outputs": [
        {
          "output_type": "execute_result",
          "data": {
            "text/plain": [
              "(60000, 28, 28, 1)"
            ]
          },
          "metadata": {},
          "execution_count": 13
        }
      ],
      "source": [
        "X_train.shape"
      ]
    },
    {
      "cell_type": "code",
      "source": [
        "X_test = X_test.reshape((10000, 28, 28, 1))"
      ],
      "metadata": {
        "id": "c4GKx_WBBYSY"
      },
      "execution_count": 14,
      "outputs": []
    },
    {
      "cell_type": "code",
      "source": [
        "X_test.shape"
      ],
      "metadata": {
        "colab": {
          "base_uri": "https://localhost:8080/",
          "height": 0
        },
        "id": "a6ONrWPdBaAq",
        "outputId": "3f095c50-d88e-4ef2-ba3b-ba6e93e57d6e"
      },
      "execution_count": 15,
      "outputs": [
        {
          "output_type": "execute_result",
          "data": {
            "text/plain": [
              "(10000, 28, 28, 1)"
            ]
          },
          "metadata": {},
          "execution_count": 15
        }
      ]
    },
    {
      "cell_type": "markdown",
      "source": [
        "**Creating the Convolutional Neural Network(CNN):**"
      ],
      "metadata": {
        "id": "NEly2l_i20X4"
      }
    },
    {
      "cell_type": "code",
      "source": [
        "from tensorflow.keras.models import Sequential \n",
        "from tensorflow.keras.layers import Conv2D, Dense, Flatten, MaxPooling2D "
      ],
      "metadata": {
        "id": "Q8Dqqu3--742"
      },
      "execution_count": 16,
      "outputs": []
    },
    {
      "cell_type": "code",
      "source": [
        "cnnModel = Sequential()"
      ],
      "metadata": {
        "id": "Yicgc-cOFs4K"
      },
      "execution_count": 17,
      "outputs": []
    },
    {
      "cell_type": "markdown",
      "source": [
        "**Convolution Layer:**"
      ],
      "metadata": {
        "id": "lVIr0g7r_Wg2"
      }
    },
    {
      "cell_type": "code",
      "source": [
        "cnnModel.add(Conv2D(filters=64, kernel_size=(3, 3), activation='relu',\n",
        "                 input_shape=(28,28,1)))"
      ],
      "metadata": {
        "id": "DNRaNSkDB7RE"
      },
      "execution_count": 18,
      "outputs": []
    },
    {
      "cell_type": "code",
      "source": [
        ""
      ],
      "metadata": {
        "id": "JxTTIGybA4UZ"
      },
      "execution_count": 18,
      "outputs": []
    },
    {
      "cell_type": "markdown",
      "source": [
        "**Pooling Layer:**"
      ],
      "metadata": {
        "id": "lzsD3xh0_gIB"
      }
    },
    {
      "cell_type": "code",
      "source": [
        "cnnModel.add(MaxPooling2D(pool_size=(2, 2)))"
      ],
      "metadata": {
        "id": "QZquNl7VA5AB"
      },
      "execution_count": 19,
      "outputs": []
    },
    {
      "cell_type": "markdown",
      "source": [
        "*   **Adding Another Pooling Layer and Convolutional Layer:**\n",
        "\n",
        "\n",
        "\n",
        "\n"
      ],
      "metadata": {
        "id": "i2_Jauc5Caem"
      }
    },
    {
      "cell_type": "code",
      "execution_count": 20,
      "metadata": {
        "id": "PphkSYvRcp4w"
      },
      "outputs": [],
      "source": [
        "cnnModel.add(Conv2D(filters=128, kernel_size=(3, 3), activation='relu'))"
      ]
    },
    {
      "cell_type": "code",
      "execution_count": 21,
      "metadata": {
        "id": "VFTyFyDzcp4x"
      },
      "outputs": [],
      "source": [
        "cnnModel.add(MaxPooling2D(pool_size=(2, 2)))"
      ]
    },
    {
      "cell_type": "markdown",
      "source": [
        "**Flatten:**"
      ],
      "metadata": {
        "id": "bwLNnoOo_ohM"
      }
    },
    {
      "cell_type": "code",
      "source": [
        "cnnModel.add(Flatten())"
      ],
      "metadata": {
        "id": "EWl3peVXA5pw"
      },
      "execution_count": 22,
      "outputs": []
    },
    {
      "cell_type": "markdown",
      "source": [
        "**Dense Layer:**"
      ],
      "metadata": {
        "id": "ZpcNKxOr_tM0"
      }
    },
    {
      "cell_type": "code",
      "source": [
        "cnnModel.add(Dense(units=128, activation='relu'))"
      ],
      "metadata": {
        "id": "wbMGEMPXA6XH"
      },
      "execution_count": 23,
      "outputs": []
    },
    {
      "cell_type": "markdown",
      "source": [
        "\n",
        "\n",
        "*   **Adding another Dense Layer**\n",
        "\n"
      ],
      "metadata": {
        "id": "qSM0bDVhC7_c"
      }
    },
    {
      "cell_type": "code",
      "source": [
        "cnnModel.add(Dense(units=10, activation='softmax'))"
      ],
      "metadata": {
        "id": "j-GvwKoWDJuL"
      },
      "execution_count": 24,
      "outputs": []
    },
    {
      "cell_type": "markdown",
      "source": [
        "**Model Summary:**"
      ],
      "metadata": {
        "id": "YU2JrkfMDS4_"
      }
    },
    {
      "cell_type": "code",
      "source": [
        "cnnModel.summary()"
      ],
      "metadata": {
        "colab": {
          "base_uri": "https://localhost:8080/",
          "height": 0
        },
        "id": "8Pa8XSChDWjp",
        "outputId": "ca58547d-1517-4b8c-e842-86280f24319e"
      },
      "execution_count": 25,
      "outputs": [
        {
          "output_type": "stream",
          "name": "stdout",
          "text": [
            "Model: \"sequential\"\n",
            "_________________________________________________________________\n",
            " Layer (type)                Output Shape              Param #   \n",
            "=================================================================\n",
            " conv2d (Conv2D)             (None, 26, 26, 64)        640       \n",
            "                                                                 \n",
            " max_pooling2d (MaxPooling2D  (None, 13, 13, 64)       0         \n",
            " )                                                               \n",
            "                                                                 \n",
            " conv2d_1 (Conv2D)           (None, 11, 11, 128)       73856     \n",
            "                                                                 \n",
            " max_pooling2d_1 (MaxPooling  (None, 5, 5, 128)        0         \n",
            " 2D)                                                             \n",
            "                                                                 \n",
            " flatten (Flatten)           (None, 3200)              0         \n",
            "                                                                 \n",
            " dense (Dense)               (None, 128)               409728    \n",
            "                                                                 \n",
            " dense_1 (Dense)             (None, 10)                1290      \n",
            "                                                                 \n",
            "=================================================================\n",
            "Total params: 485,514\n",
            "Trainable params: 485,514\n",
            "Non-trainable params: 0\n",
            "_________________________________________________________________\n"
          ]
        }
      ]
    },
    {
      "cell_type": "markdown",
      "source": [
        "**Vizualizing the Structure of the Model:**"
      ],
      "metadata": {
        "id": "tfufL81K_7rB"
      }
    },
    {
      "cell_type": "code",
      "source": [
        "from tensorflow.keras.utils import plot_model\n",
        "from IPython.display import Image\n",
        "plot_model(cnnModel, to_file='convnet.png', show_shapes=True, \n",
        "           show_layer_names=True)\n",
        "Image(filename='convnet.png')"
      ],
      "metadata": {
        "colab": {
          "base_uri": "https://localhost:8080/",
          "height": 865
        },
        "id": "d1afsYUNA8FW",
        "outputId": "d1ccd8f4-2b80-4eef-9852-b9450240cb5a"
      },
      "execution_count": 26,
      "outputs": [
        {
          "output_type": "execute_result",
          "data": {
            "text/plain": [
              "<IPython.core.display.Image object>"
            ],
            "image/png": "[encoded data removed]"
          },
          "metadata": {},
          "execution_count": 26
        }
      ]
    },
    {
      "cell_type": "markdown",
      "source": [
        "**Compiling the model:**"
      ],
      "metadata": {
        "id": "CNoLqPdRAHsu"
      }
    },
    {
      "cell_type": "code",
      "source": [
        "cnnModel.compile(optimizer='adam',\n",
        "              loss=tf.keras.losses.SparseCategoricalCrossentropy(from_logits=True),\n",
        "              metrics=['accuracy'])"
      ],
      "metadata": {
        "id": "OQPPvr-6A8uG"
      },
      "execution_count": 27,
      "outputs": []
    },
    {
      "cell_type": "markdown",
      "source": [
        "**Trainging and Evaluating the Model:**"
      ],
      "metadata": {
        "id": "BpnF1rZNAMYa"
      }
    },
    {
      "cell_type": "code",
      "source": [
        "cnnModel.fit(X_train, y_train, epochs=5, batch_size=64, validation_split=0.1)"
      ],
      "metadata": {
        "colab": {
          "base_uri": "https://localhost:8080/",
          "height": 0
        },
        "id": "HCtp7h9_A9Lx",
        "outputId": "7e8b3d31-60fa-4b25-ccd1-bf7cfbcf0bae"
      },
      "execution_count": 28,
      "outputs": [
        {
          "output_type": "stream",
          "name": "stdout",
          "text": [
            "Epoch 1/5\n"
          ]
        },
        {
          "output_type": "stream",
          "name": "stderr",
          "text": [
            "/usr/local/lib/python3.7/dist-packages/tensorflow/python/util/dispatch.py:1082: UserWarning: \"`sparse_categorical_crossentropy` received `from_logits=True`, but the `output` argument was produced by a sigmoid or softmax activation and thus does not represent logits. Was this intended?\"\n",
            "  return dispatch_target(*args, **kwargs)\n"
          ]
        },
        {
          "output_type": "stream",
          "name": "stdout",
          "text": [
            "844/844 [==============================] - 117s 137ms/step - loss: 0.8820 - accuracy: 0.8272 - val_loss: 0.3430 - val_accuracy: 0.8785\n",
            "Epoch 2/5\n",
            "844/844 [==============================] - 114s 135ms/step - loss: 0.3267 - accuracy: 0.8805 - val_loss: 0.3127 - val_accuracy: 0.8907\n",
            "Epoch 3/5\n",
            "844/844 [==============================] - 114s 135ms/step - loss: 0.2858 - accuracy: 0.8936 - val_loss: 0.2968 - val_accuracy: 0.8923\n",
            "Epoch 4/5\n",
            "844/844 [==============================] - 114s 135ms/step - loss: 0.2586 - accuracy: 0.9024 - val_loss: 0.2939 - val_accuracy: 0.8967\n",
            "Epoch 5/5\n",
            "844/844 [==============================] - 114s 135ms/step - loss: 0.2409 - accuracy: 0.9091 - val_loss: 0.3076 - val_accuracy: 0.8917\n"
          ]
        },
        {
          "output_type": "execute_result",
          "data": {
            "text/plain": [
              "<keras.callbacks.History at 0x7f88fa53b150>"
            ]
          },
          "metadata": {},
          "execution_count": 28
        }
      ]
    },
    {
      "cell_type": "code",
      "source": [
        "loss, accuracy = cnnModel.evaluate(X_test, y_test)"
      ],
      "metadata": {
        "colab": {
          "base_uri": "https://localhost:8080/",
          "height": 0
        },
        "id": "YVDCi0oPECah",
        "outputId": "9aea5e12-90a6-485c-ad7a-30b04bd6e208"
      },
      "execution_count": 29,
      "outputs": [
        {
          "output_type": "stream",
          "name": "stdout",
          "text": [
            "313/313 [==============================] - 6s 20ms/step - loss: 0.3277 - accuracy: 0.8816\n"
          ]
        }
      ]
    },
    {
      "cell_type": "code",
      "source": [
        "loss"
      ],
      "metadata": {
        "colab": {
          "base_uri": "https://localhost:8080/",
          "height": 0
        },
        "id": "8w6UI6_GEFEv",
        "outputId": "abacc360-d0b6-4874-ee86-9256c4c6faa0"
      },
      "execution_count": 30,
      "outputs": [
        {
          "output_type": "execute_result",
          "data": {
            "text/plain": [
              "0.32771041989326477"
            ]
          },
          "metadata": {},
          "execution_count": 30
        }
      ]
    },
    {
      "cell_type": "code",
      "source": [
        "accuracy"
      ],
      "metadata": {
        "colab": {
          "base_uri": "https://localhost:8080/",
          "height": 0
        },
        "id": "TMyYxKX8EGn-",
        "outputId": "e7cc3bf5-1760-4fcf-88d4-5d8ec4d7e640"
      },
      "execution_count": 31,
      "outputs": [
        {
          "output_type": "execute_result",
          "data": {
            "text/plain": [
              "0.881600022315979"
            ]
          },
          "metadata": {},
          "execution_count": 31
        }
      ]
    },
    {
      "cell_type": "markdown",
      "source": [
        "**Predictions:**"
      ],
      "metadata": {
        "id": "FTtI9BKmAWLs"
      }
    },
    {
      "cell_type": "code",
      "source": [
        "predictions = cnnModel.predict(X_test)"
      ],
      "metadata": {
        "id": "28TH0qi1A-CQ"
      },
      "execution_count": 32,
      "outputs": []
    },
    {
      "cell_type": "code",
      "source": [
        "y_test[0]"
      ],
      "metadata": {
        "colab": {
          "base_uri": "https://localhost:8080/",
          "height": 0
        },
        "id": "B_BR3S0YEOZ8",
        "outputId": "6428d122-e7b2-4fb9-cbba-ed1cac7fbb78"
      },
      "execution_count": 33,
      "outputs": [
        {
          "output_type": "execute_result",
          "data": {
            "text/plain": [
              "9"
            ]
          },
          "metadata": {},
          "execution_count": 33
        }
      ]
    },
    {
      "cell_type": "code",
      "source": [
        "for index, probability in enumerate(predictions[0]):\n",
        "    print(f'{index}: {probability:.10%}')"
      ],
      "metadata": {
        "colab": {
          "base_uri": "https://localhost:8080/",
          "height": 0
        },
        "id": "ulysjobQEQIy",
        "outputId": "12a857e9-fe64-47ee-b52c-dd25f7cdf557"
      },
      "execution_count": 34,
      "outputs": [
        {
          "output_type": "stream",
          "name": "stdout",
          "text": [
            "0: 0.0000000238%\n",
            "1: 0.0000001003%\n",
            "2: 0.0000004276%\n",
            "3: 0.0000000061%\n",
            "4: 0.0000000318%\n",
            "5: 0.0075150689%\n",
            "6: 0.0000000240%\n",
            "7: 0.0835823535%\n",
            "8: 0.0000004086%\n",
            "9: 99.9089002609%\n"
          ]
        }
      ]
    },
    {
      "cell_type": "markdown",
      "source": [
        "**Incorrect predictions:**"
      ],
      "metadata": {
        "id": "CierzyCEAXyK"
      }
    },
    {
      "cell_type": "code",
      "source": [
        "images = X_test.reshape((10000, 28, 28))"
      ],
      "metadata": {
        "id": "wTMxM_TAA-oa"
      },
      "execution_count": 35,
      "outputs": []
    },
    {
      "cell_type": "code",
      "source": [
        "incorrect_predictions = []"
      ],
      "metadata": {
        "id": "6JeAVmWFEWeb"
      },
      "execution_count": 36,
      "outputs": []
    },
    {
      "cell_type": "code",
      "source": [
        "for i, (p, e) in enumerate(zip(predictions, y_test)):\n",
        "    predicted, expected = np.argmax(p), np.argmax(e)\n",
        "\n",
        "    if predicted != expected:  \n",
        "        incorrect_predictions.append(\n",
        "            (i, images[i], predicted, expected))"
      ],
      "metadata": {
        "id": "BSCNKKqHEcWX"
      },
      "execution_count": 37,
      "outputs": []
    },
    {
      "cell_type": "code",
      "source": [
        "len(incorrect_predictions)"
      ],
      "metadata": {
        "colab": {
          "base_uri": "https://localhost:8080/",
          "height": 0
        },
        "id": "MmJFxt75Eefz",
        "outputId": "1db0d48e-062d-4c64-cd36-e95b2889ccfc"
      },
      "execution_count": 38,
      "outputs": [
        {
          "output_type": "execute_result",
          "data": {
            "text/plain": [
              "9174"
            ]
          },
          "metadata": {},
          "execution_count": 38
        }
      ]
    },
    {
      "cell_type": "markdown",
      "source": [
        "**Vizualizing the Incorrect Predictions:**"
      ],
      "metadata": {
        "id": "V0FhDpgDAe4u"
      }
    },
    {
      "cell_type": "code",
      "source": [
        "figure, axes = plt.subplots(nrows=4, ncols=6, figsize=(16, 12))\n",
        "\n",
        "for axes, item in zip(axes.ravel(), incorrect_predictions):\n",
        "    index, image, predicted, expected = item\n",
        "    axes.imshow(image, cmap=plt.cm.gray_r)\n",
        "    axes.set_xticks([]) \n",
        "    axes.set_yticks([])  \n",
        "    axes.set_title(f'index: {index}\\np: {predicted}; e: {expected}')\n",
        "plt.tight_layout()"
      ],
      "metadata": {
        "colab": {
          "base_uri": "https://localhost:8080/",
          "height": 878
        },
        "id": "ZPmVq8fOBASt",
        "outputId": "43059b62-a898-486b-f798-06a4564a5e5f"
      },
      "execution_count": 39,
      "outputs": [
        {
          "output_type": "display_data",
          "data": {
            "text/plain": [
              "<Figure size 1152x864 with 24 Axes>"
            ],
            "image/png": "[encoded data removed]"
          },
          "metadata": {}
        }
      ]
    },
    {
      "cell_type": "markdown",
      "source": [
        "**Saving and Loading the Model:**"
      ],
      "metadata": {
        "id": "5jBvR3OcAlEM"
      }
    },
    {
      "cell_type": "code",
      "source": [
        "cnnModel.save('fashion_mnist_cnn_model.h5')"
      ],
      "metadata": {
        "id": "95DsH5mwBBFu"
      },
      "execution_count": 40,
      "outputs": []
    },
    {
      "cell_type": "code",
      "source": [
        "from tensorflow.keras.models import load_model\n",
        "cnn = load_model('fashion_mnist_cnn_model.h5')"
      ],
      "metadata": {
        "id": "4G2caV2CShSE"
      },
      "execution_count": 41,
      "outputs": []
    },
    {
      "cell_type": "markdown",
      "source": [
        "#16.4 Convnet Layers:\n",
        "Remove the first Dense layer in this chapter’s convnet model. How does this change the prediction accuracy? Several Keras pretrained convnets contain Dense layers with 4096 neurons. Add such a layer before the two Dense layers in this chapter’s convnet model. \n",
        "\n",
        "Answer:\n",
        "\n",
        "*   How does this change the prediction accuracy? \n",
        "\n",
        "    By removing the first Dense layer in this chapter’s convnet model, it changes the prediction accuracy from 0.9919999837875366 to 0.9897000193595886.\n",
        "\n"
      ],
      "metadata": {
        "id": "2qWxdbO0cFV8"
      }
    }
  ]
}